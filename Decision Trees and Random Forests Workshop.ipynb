{
 "cells": [
  {
   "cell_type": "markdown",
   "metadata": {},
   "source": []
  },
  {
   "cell_type": "markdown",
   "metadata": {},
   "source": [
    "**Decision Tree -- Theory**"
   ]
  },
  {
   "cell_type": "markdown",
   "metadata": {},
   "source": [
    "**Random Forest -- Theory**"
   ]
  },
  {
   "cell_type": "markdown",
   "metadata": {},
   "source": [
    "**Implementation**"
   ]
  },
  {
   "cell_type": "code",
   "execution_count": null,
   "metadata": {},
   "outputs": [],
   "source": [
    "# Install Dependencies\n",
    "import pandas as pd\n",
    "from sklearn.preprocessing import MinMaxScaler\n",
    "from sklearn.model_selection import train_test_split\n",
    "from sklearn.tree import DecisionTreeClassifier, DecisionTreeRegressor\n",
    "from sklearn.linear_model import LogisticRegression, LinearRegression\n",
    "from sklearn.ensemble import RandomForestClassifier, RandomForestRegressor\n",
    "from sklearn.metrics import accuracy_score, recall_score, f1_score, mean_squared_error, r2_score"
   ]
  },
  {
   "cell_type": "markdown",
   "metadata": {},
   "source": [
    "The next step is making the data. We will use two datasets for this project."
   ]
  },
  {
   "cell_type": "code",
   "execution_count": null,
   "metadata": {},
   "outputs": [],
   "source": [
    "cancer_df = pd.read_csv('model_dev_data/breast_cancer.csv')\n",
    "cancer_df.pop('ID')\n",
    "solar_df = pd.read_csv('model_dev_data/solar.csv')\n",
    "\n",
    "cancer_y = cancer_df.pop('diagnosis')\n",
    "solar_y = solar_df.pop('SOLARRADIATION_0003')\n",
    "solar_df = solar_df.iloc[:,1:]\n",
    "\n",
    "def scale(df):\n",
    "    x = df.values\n",
    "    scaler = MinMaxScaler()\n",
    "    x_scaled = scaler.fit_transform(x)\n",
    "    return pd.DataFrame(x_scaled)"
   ]
  },
  {
   "cell_type": "code",
   "execution_count": null,
   "metadata": {},
   "outputs": [],
   "source": [
    "def makeModel(num_features, model, df, y, clf):\n",
    "    # Restrict to only features with highest variance and make model\n",
    "    cols = df.var().sort_values()[(-num_features - 1):].keys()\n",
    "    df = df[df.columns.intersection(cols)]\n",
    "    df = scale(df)\n",
    "    training_x, testing_x, training_y, testing_y = train_test_split(df, y, test_size=0.2)\n",
    "    model.fit(training_x, training_y)\n",
    "    pred = model.predict(testing_x)\n",
    "    print(str(model) + \" with \" + str(num_features) + \" features: \")\n",
    "    if clf:       \n",
    "        accuracy = accuracy_score(testing_y, pred)\n",
    "        recall = recall_score(testing_y, pred, pos_label = 'M') #Double Check? \n",
    "        f1 = f1_score(testing_y, pred, pos_label = 'M')\n",
    "        print (\"\\tAccuracy of \" + str(accuracy))\n",
    "        print (\"\\tRecall of \" + str(recall))\n",
    "        print (\"\\tF1 of \" + str(f1))\n",
    "    else:\n",
    "       mse = mean_squared_error(testing_y, pred)\n",
    "       r2 = r2_score(testing_y, pred)\n",
    "       print(\"\\tMean Squared Error of \" + str(mse))\n",
    "       print(\"\\tR2 Score of \" + str(r2))"
   ]
  },
  {
   "cell_type": "code",
   "execution_count": null,
   "metadata": {},
   "outputs": [],
   "source": [
    "classifiers = [DecisionTreeClassifier(), LogisticRegression(), RandomForestClassifier()]\n",
    "regressors = [DecisionTreeRegressor(), LinearRegression(), RandomForestRegressor()]\n",
    "for ftrs in range(5, 20, 5):\n",
    "    for clf in classifiers:\n",
    "        makeModel(ftrs, clf, cancer_df, cancer_y, True)\n",
    "    for reg in regressors:\n",
    "        makeModel(ftrs, reg, solar_df, solar_y, False)"
   ]
  }
 ],
 "metadata": {
  "kernelspec": {
   "display_name": "Python 3",
   "language": "python",
   "name": "python3"
  },
  "language_info": {
   "codemirror_mode": {
    "name": "ipython",
    "version": 3
   },
   "file_extension": ".py",
   "mimetype": "text/x-python",
   "name": "python",
   "nbconvert_exporter": "python",
   "pygments_lexer": "ipython3",
   "version": "3.7.3"
  }
 },
 "nbformat": 4,
 "nbformat_minor": 4
}
